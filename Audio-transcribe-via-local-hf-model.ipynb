{
 "cells": [
  {
   "cell_type": "markdown",
   "metadata": {},
   "source": [
    "# Transcribe audio using a locally-running HuggingFace Model\n",
    "3/24/2025, Dave Sisk, https://github.com/davidcsisk, https://www.linkedin.com/in/davesisk-doctordatabase/\n",
    "\n",
    "This model is suitable for desktop or mobile device use."
   ]
  },
  {
   "cell_type": "code",
   "execution_count": 5,
   "metadata": {},
   "outputs": [],
   "source": [
    "# Do the necessary prep work...\n",
    "#! pip install vosk\n",
    "# Need to download and extract Vosk model into ./model directory\n",
    "# https://alphacephei.com/vosk/models\n",
    "# The model director should be in the current working directory,\n",
    "# and look like something like this:\n",
    "# model/\n",
    "# ├── am/                # Acoustic model files\n",
    "# ├── conf/              # Configuration files\n",
    "# ├── graph/             # Graph files for decoding\n",
    "# ├── ivector/           # Files for speaker identification (optional)\n",
    "# ├── rescore/           # Rescoring files (optional)\n",
    "# ├── README             # Information about the model\n",
    "# └── other files        # Additional files required for the model\n",
    "\n",
    "#! pip install wave\n",
    "#! pip install pyaudio\n",
    "#! pip install pydub\n",
    "\n",
    "# Must download and install ffmpeg\n",
    "# https://ffmpeg.org/download.html\n",
    "# check it's accessible in the path:  ffmpeg -version\n"
   ]
  },
  {
   "cell_type": "code",
   "execution_count": 4,
   "metadata": {},
   "outputs": [
    {
     "name": "stdout",
     "output_type": "stream",
     "text": [
      "Processing popularhistoryoftheartofmusic_00_mathews.mp3...\n",
      "Transcription saved to popularhistoryoftheartofmusic_00_mathews.txt\n",
      "Processing popularhistoryoftheartofmusic_01_mathews.mp3...\n",
      "Transcription saved to popularhistoryoftheartofmusic_00_mathews.txt\n",
      "Processing popularhistoryoftheartofmusic_01_mathews.mp3...\n",
      "Transcription saved to popularhistoryoftheartofmusic_01_mathews.txt\n",
      "Processing popularhistoryoftheartofmusic_02_mathews.mp3...\n",
      "Transcription saved to popularhistoryoftheartofmusic_01_mathews.txt\n",
      "Processing popularhistoryoftheartofmusic_02_mathews.mp3...\n",
      "Transcription saved to popularhistoryoftheartofmusic_02_mathews.txt\n",
      "Processing popularhistoryoftheartofmusic_03_mathews_reduced-sample-rate_16KHz.mp3...\n",
      "Transcription saved to popularhistoryoftheartofmusic_02_mathews.txt\n",
      "Processing popularhistoryoftheartofmusic_03_mathews_reduced-sample-rate_16KHz.mp3...\n",
      "Transcription saved to popularhistoryoftheartofmusic_03_mathews_reduced-sample-rate_16KHz.txt\n",
      "Transcription saved to popularhistoryoftheartofmusic_03_mathews_reduced-sample-rate_16KHz.txt\n"
     ]
    }
   ],
   "source": [
    "import os\n",
    "import wave\n",
    "import json\n",
    "from vosk import Model, KaldiRecognizer\n",
    "\n",
    "# Load the Vosk model\n",
    "model = Model(\"model\")  # Ensure the Vosk model is downloaded and placed in the \"model\" directory\n",
    "\n",
    "# Directory containing MP3 files\n",
    "audio_directory = \".\"\n",
    "\n",
    "# Function to convert MP3 to WAV with required specifications\n",
    "def convert_mp3_to_wav(mp3_file, wav_file):\n",
    "    from pydub import AudioSegment\n",
    "    audio = AudioSegment.from_mp3(mp3_file)\n",
    "    # Convert to mono, 16-bit, and 16kHz\n",
    "    audio = audio.set_channels(1).set_sample_width(2).set_frame_rate(16000)\n",
    "    audio.export(wav_file, format=\"wav\")\n",
    "\n",
    "# Iterate through all MP3 files in the directory\n",
    "for file_name in os.listdir(audio_directory):\n",
    "    if file_name.endswith(\".mp3\"):\n",
    "        print(f\"Processing {file_name}...\")\n",
    "        wav_file = f\"{os.path.splitext(file_name)[0]}.wav\"\n",
    "        \n",
    "        # Convert MP3 to WAV\n",
    "        convert_mp3_to_wav(file_name, wav_file)\n",
    "        \n",
    "        # Open the WAV file\n",
    "        with wave.open(wav_file, \"rb\") as wf:\n",
    "            if wf.getnchannels() != 1 or wf.getsampwidth() != 2 or wf.getframerate() not in [8000, 16000]:\n",
    "                print(f\"Skipping {file_name}: WAV file must be mono, 16-bit, and 8kHz or 16kHz.\")\n",
    "                continue\n",
    "            \n",
    "            rec = KaldiRecognizer(model, wf.getframerate())\n",
    "            transcription = \"\"\n",
    "            \n",
    "            # Perform transcription\n",
    "            while True:\n",
    "                data = wf.readframes(4000)\n",
    "                if len(data) == 0:\n",
    "                    break\n",
    "                if rec.AcceptWaveform(data):\n",
    "                    result = json.loads(rec.Result())\n",
    "                    transcription += result.get(\"text\", \"\") + \" \"\n",
    "            \n",
    "            # Finalize transcription\n",
    "            final_result = json.loads(rec.FinalResult())\n",
    "            transcription += final_result.get(\"text\", \"\")\n",
    "            \n",
    "            # Save the transcription to a text file\n",
    "            output_file = f\"{os.path.splitext(file_name)[0]}.txt\"\n",
    "            with open(output_file, \"w\", encoding=\"utf-8\") as f:\n",
    "                f.write(transcription.strip())\n",
    "            print(f\"Transcription saved to {output_file}\") #           C:\\ffmpeg\\bin"
   ]
  }
 ],
 "metadata": {
  "kernelspec": {
   "display_name": "Python 3",
   "language": "python",
   "name": "python3"
  },
  "language_info": {
   "codemirror_mode": {
    "name": "ipython",
    "version": 3
   },
   "file_extension": ".py",
   "mimetype": "text/x-python",
   "name": "python",
   "nbconvert_exporter": "python",
   "pygments_lexer": "ipython3",
   "version": "3.11.9"
  }
 },
 "nbformat": 4,
 "nbformat_minor": 2
}
